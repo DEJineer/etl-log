{
 "cells": [
  {
   "cell_type": "markdown",
   "metadata": {
    "collapsed": true,
    "pycharm": {
     "name": "#%% md\n"
    }
   },
   "source": [
    "### Extract data\n"
   ]
  },
  {
   "cell_type": "code",
   "execution_count": 36,
   "outputs": [],
   "source": [
    "import glob\n",
    "import os\n",
    "import pandas as pd\n"
   ],
   "metadata": {
    "collapsed": false,
    "pycharm": {
     "name": "#%%\n"
    }
   }
  },
  {
   "cell_type": "code",
   "execution_count": 37,
   "outputs": [
    {
     "name": "stdout",
     "output_type": "stream",
     "text": [
      "nombre de fichier :  30\n"
     ]
    }
   ],
   "source": [
    "data_directory = '/home/dej/mes-projets/etl-log/data/'\n",
    "# list of filepaths\n",
    "file_path_list = []\n",
    "\n",
    "# we walk through all subdirectories to find .json files\n",
    "for subdir, dirs, files in os.walk(data_directory):\n",
    "    for file in files:\n",
    "        file_path_list.append(os.path.join(subdir, file))\n",
    "print(\"nombre de fichier : \", len(file_path_list))"
   ],
   "metadata": {
    "collapsed": false,
    "pycharm": {
     "name": "#%%\n"
    }
   }
  },
  {
   "cell_type": "code",
   "execution_count": 45,
   "outputs": [
    {
     "data": {
      "text/plain": "          artist        auth firstName gender  itemInSession  lastName  \\\n0           None  Logged Out      None   None              0      None   \n1           None   Logged In   Celeste      F              1  Williams   \n2           Mynt   Logged In   Celeste      F              2  Williams   \n3   Taylor Swift   Logged In   Celeste      F              3  Williams   \n4  Amy Winehouse   Logged In   Celeste      F              4  Williams   \n\n      length level           location method      page  registration  \\\n0        NaN  free               None    PUT     Login           NaN   \n1        NaN  free  Klamath Falls, OR    GET      Home  1.541078e+12   \n2  166.94812  free  Klamath Falls, OR    PUT  NextSong  1.541078e+12   \n3  230.47791  free  Klamath Falls, OR    PUT  NextSong  1.541078e+12   \n4  229.85098  free  Klamath Falls, OR    PUT  NextSong  1.541078e+12   \n\n   sessionId                song  status             ts  \\\n0         52                None     307  1541207073796   \n1         52                None     200  1541207123796   \n2         52        Playa Haters     200  1541207150796   \n3         52  You Belong With Me     200  1541207316796   \n4         52             Valerie     200  1541207546796   \n\n                                           userAgent userId  \n0                                               None         \n1  \"Mozilla/5.0 (Windows NT 6.1; WOW64) AppleWebK...     53  \n2  \"Mozilla/5.0 (Windows NT 6.1; WOW64) AppleWebK...     53  \n3  \"Mozilla/5.0 (Windows NT 6.1; WOW64) AppleWebK...     53  \n4  \"Mozilla/5.0 (Windows NT 6.1; WOW64) AppleWebK...     53  ",
      "text/html": "<div>\n<style scoped>\n    .dataframe tbody tr th:only-of-type {\n        vertical-align: middle;\n    }\n\n    .dataframe tbody tr th {\n        vertical-align: top;\n    }\n\n    .dataframe thead th {\n        text-align: right;\n    }\n</style>\n<table border=\"1\" class=\"dataframe\">\n  <thead>\n    <tr style=\"text-align: right;\">\n      <th></th>\n      <th>artist</th>\n      <th>auth</th>\n      <th>firstName</th>\n      <th>gender</th>\n      <th>itemInSession</th>\n      <th>lastName</th>\n      <th>length</th>\n      <th>level</th>\n      <th>location</th>\n      <th>method</th>\n      <th>page</th>\n      <th>registration</th>\n      <th>sessionId</th>\n      <th>song</th>\n      <th>status</th>\n      <th>ts</th>\n      <th>userAgent</th>\n      <th>userId</th>\n    </tr>\n  </thead>\n  <tbody>\n    <tr>\n      <th>0</th>\n      <td>None</td>\n      <td>Logged Out</td>\n      <td>None</td>\n      <td>None</td>\n      <td>0</td>\n      <td>None</td>\n      <td>NaN</td>\n      <td>free</td>\n      <td>None</td>\n      <td>PUT</td>\n      <td>Login</td>\n      <td>NaN</td>\n      <td>52</td>\n      <td>None</td>\n      <td>307</td>\n      <td>1541207073796</td>\n      <td>None</td>\n      <td></td>\n    </tr>\n    <tr>\n      <th>1</th>\n      <td>None</td>\n      <td>Logged In</td>\n      <td>Celeste</td>\n      <td>F</td>\n      <td>1</td>\n      <td>Williams</td>\n      <td>NaN</td>\n      <td>free</td>\n      <td>Klamath Falls, OR</td>\n      <td>GET</td>\n      <td>Home</td>\n      <td>1.541078e+12</td>\n      <td>52</td>\n      <td>None</td>\n      <td>200</td>\n      <td>1541207123796</td>\n      <td>\"Mozilla/5.0 (Windows NT 6.1; WOW64) AppleWebK...</td>\n      <td>53</td>\n    </tr>\n    <tr>\n      <th>2</th>\n      <td>Mynt</td>\n      <td>Logged In</td>\n      <td>Celeste</td>\n      <td>F</td>\n      <td>2</td>\n      <td>Williams</td>\n      <td>166.94812</td>\n      <td>free</td>\n      <td>Klamath Falls, OR</td>\n      <td>PUT</td>\n      <td>NextSong</td>\n      <td>1.541078e+12</td>\n      <td>52</td>\n      <td>Playa Haters</td>\n      <td>200</td>\n      <td>1541207150796</td>\n      <td>\"Mozilla/5.0 (Windows NT 6.1; WOW64) AppleWebK...</td>\n      <td>53</td>\n    </tr>\n    <tr>\n      <th>3</th>\n      <td>Taylor Swift</td>\n      <td>Logged In</td>\n      <td>Celeste</td>\n      <td>F</td>\n      <td>3</td>\n      <td>Williams</td>\n      <td>230.47791</td>\n      <td>free</td>\n      <td>Klamath Falls, OR</td>\n      <td>PUT</td>\n      <td>NextSong</td>\n      <td>1.541078e+12</td>\n      <td>52</td>\n      <td>You Belong With Me</td>\n      <td>200</td>\n      <td>1541207316796</td>\n      <td>\"Mozilla/5.0 (Windows NT 6.1; WOW64) AppleWebK...</td>\n      <td>53</td>\n    </tr>\n    <tr>\n      <th>4</th>\n      <td>Amy Winehouse</td>\n      <td>Logged In</td>\n      <td>Celeste</td>\n      <td>F</td>\n      <td>4</td>\n      <td>Williams</td>\n      <td>229.85098</td>\n      <td>free</td>\n      <td>Klamath Falls, OR</td>\n      <td>PUT</td>\n      <td>NextSong</td>\n      <td>1.541078e+12</td>\n      <td>52</td>\n      <td>Valerie</td>\n      <td>200</td>\n      <td>1541207546796</td>\n      <td>\"Mozilla/5.0 (Windows NT 6.1; WOW64) AppleWebK...</td>\n      <td>53</td>\n    </tr>\n  </tbody>\n</table>\n</div>"
     },
     "execution_count": 45,
     "metadata": {},
     "output_type": "execute_result"
    }
   ],
   "source": [
    "# List of dataframes for each file\n",
    "dfs = [pd.read_json(x, lines=True) for x in file_path_list]\n",
    "\n",
    "# we concatenate all the dataframes in only one\n",
    "df = pd.concat(dfs, axis=0, ignore_index=True)\n",
    "df.head()"
   ],
   "metadata": {
    "collapsed": false,
    "pycharm": {
     "name": "#%%\n"
    }
   }
  },
  {
   "cell_type": "markdown",
   "source": [
    "#### Clean of the dataframe"
   ],
   "metadata": {
    "collapsed": false,
    "pycharm": {
     "name": "#%% md\n"
    }
   }
  },
  {
   "cell_type": "code",
   "execution_count": 56,
   "outputs": [
    {
     "data": {
      "text/plain": "(6820, 18)"
     },
     "execution_count": 56,
     "metadata": {},
     "output_type": "execute_result"
    }
   ],
   "source": [
    "# We look after na values\n",
    "\n",
    "df_valid = df.dropna()\n",
    "df_valid.shape"
   ],
   "metadata": {
    "collapsed": false,
    "pycharm": {
     "name": "#%%\n"
    }
   }
  },
  {
   "cell_type": "markdown",
   "source": [
    "#### Transform data\n"
   ],
   "metadata": {
    "collapsed": false,
    "pycharm": {
     "name": "#%% md\n"
    }
   }
  },
  {
   "cell_type": "code",
   "execution_count": 57,
   "outputs": [
    {
     "name": "stderr",
     "output_type": "stream",
     "text": [
      "<ipython-input-57-58f16c4c0f0c>:5: SettingWithCopyWarning: \n",
      "A value is trying to be set on a copy of a slice from a DataFrame.\n",
      "Try using .loc[row_indexer,col_indexer] = value instead\n",
      "\n",
      "See the caveats in the documentation: https://pandas.pydata.org/pandas-docs/stable/user_guide/indexing.html#returning-a-view-versus-a-copy\n",
      "  df_valid['week'] = weeks\n"
     ]
    },
    {
     "data": {
      "text/plain": "(6820, 19)"
     },
     "execution_count": 57,
     "metadata": {},
     "output_type": "execute_result"
    }
   ],
   "source": [
    "import datetime\n",
    "# transform ts into week of the year\n",
    "weeks = df_valid.ts.apply(lambda x: datetime.datetime.fromtimestamp(x/1000.0).weekday())\n",
    "weeks\n",
    "df_valid['week'] = weeks\n",
    "df_valid.shape"
   ],
   "metadata": {
    "collapsed": false,
    "pycharm": {
     "name": "#%%\n"
    }
   }
  },
  {
   "cell_type": "code",
   "execution_count": 94,
   "outputs": [],
   "source": [
    "# We divide in dataframes for each week\n",
    "weeks_unique = weeks.drop_duplicates()\n",
    "\n",
    "df_per_week = {week:df_valid[df_valid['week'] == week] for week in weeks}\n",
    "# df_per_week"
   ],
   "metadata": {
    "collapsed": false,
    "pycharm": {
     "name": "#%%\n"
    }
   }
  },
  {
   "cell_type": "code",
   "execution_count": 96,
   "outputs": [
    {
     "name": "stdout",
     "output_type": "stream",
     "text": [
      "     week     song  sessionId\n",
      "420     5  Secrets          4\n",
      "     week                   song  sessionId\n",
      "211     6  Lucky (Album Version)          3\n",
      "     week  song  sessionId\n",
      "834     0  Undo          9\n",
      "     week           song  sessionId\n",
      "827     4  Sehr kosmisch          6\n",
      "     week     song  sessionId\n",
      "648     1  Revelry          6\n",
      "      week            song  sessionId\n",
      "1220     2  You're The One          7\n",
      "      week            song  sessionId\n",
      "1009     3  You're The One         10\n"
     ]
    }
   ],
   "source": [
    "for week, df in df_per_week.items():\n",
    "    df_per_week[week] = df[['week', 'song', 'sessionId']]\\\n",
    "        .groupby(['week', 'song'], as_index=False)\\\n",
    "        .agg('count')\\\n",
    "        .sort_values('sessionId', ascending=False)\\\n",
    "        .head(1)\n",
    "    print(df_per_week[week].head(5))"
   ],
   "metadata": {
    "collapsed": false,
    "pycharm": {
     "name": "#%%\n"
    }
   }
  },
  {
   "cell_type": "code",
   "execution_count": 105,
   "outputs": [
    {
     "data": {
      "text/plain": "   week                   song  sessionId\n0     5                Secrets          4\n1     6  Lucky (Album Version)          3\n2     0                   Undo          9\n3     4          Sehr kosmisch          6\n4     1                Revelry          6\n5     2         You're The One          7\n6     3         You're The One         10",
      "text/html": "<div>\n<style scoped>\n    .dataframe tbody tr th:only-of-type {\n        vertical-align: middle;\n    }\n\n    .dataframe tbody tr th {\n        vertical-align: top;\n    }\n\n    .dataframe thead th {\n        text-align: right;\n    }\n</style>\n<table border=\"1\" class=\"dataframe\">\n  <thead>\n    <tr style=\"text-align: right;\">\n      <th></th>\n      <th>week</th>\n      <th>song</th>\n      <th>sessionId</th>\n    </tr>\n  </thead>\n  <tbody>\n    <tr>\n      <th>0</th>\n      <td>5</td>\n      <td>Secrets</td>\n      <td>4</td>\n    </tr>\n    <tr>\n      <th>1</th>\n      <td>6</td>\n      <td>Lucky (Album Version)</td>\n      <td>3</td>\n    </tr>\n    <tr>\n      <th>2</th>\n      <td>0</td>\n      <td>Undo</td>\n      <td>9</td>\n    </tr>\n    <tr>\n      <th>3</th>\n      <td>4</td>\n      <td>Sehr kosmisch</td>\n      <td>6</td>\n    </tr>\n    <tr>\n      <th>4</th>\n      <td>1</td>\n      <td>Revelry</td>\n      <td>6</td>\n    </tr>\n    <tr>\n      <th>5</th>\n      <td>2</td>\n      <td>You're The One</td>\n      <td>7</td>\n    </tr>\n    <tr>\n      <th>6</th>\n      <td>3</td>\n      <td>You're The One</td>\n      <td>10</td>\n    </tr>\n  </tbody>\n</table>\n</div>"
     },
     "execution_count": 105,
     "metadata": {},
     "output_type": "execute_result"
    }
   ],
   "source": [
    "best_song_per_week = pd.concat([df for df in df_per_week.values()],\n",
    "                     axis=0, ignore_index=True)\n",
    "best_song_per_week"
   ],
   "metadata": {
    "collapsed": false,
    "pycharm": {
     "name": "#%%\n"
    }
   }
  },
  {
   "cell_type": "code",
   "execution_count": 106,
   "outputs": [],
   "source": [
    "best_song_per_week.to_csv(\"output.csv\", header=True, index=False)"
   ],
   "metadata": {
    "collapsed": false,
    "pycharm": {
     "name": "#%%\n"
    }
   }
  },
  {
   "cell_type": "code",
   "execution_count": 107,
   "outputs": [],
   "source": [
    "test = pd.read_csv(\"output.csv\")"
   ],
   "metadata": {
    "collapsed": false,
    "pycharm": {
     "name": "#%%\n"
    }
   }
  },
  {
   "cell_type": "code",
   "execution_count": 108,
   "outputs": [
    {
     "data": {
      "text/plain": "   week                   song  sessionId\n0     5                Secrets          4\n1     6  Lucky (Album Version)          3\n2     0                   Undo          9\n3     4          Sehr kosmisch          6\n4     1                Revelry          6\n5     2         You're The One          7\n6     3         You're The One         10",
      "text/html": "<div>\n<style scoped>\n    .dataframe tbody tr th:only-of-type {\n        vertical-align: middle;\n    }\n\n    .dataframe tbody tr th {\n        vertical-align: top;\n    }\n\n    .dataframe thead th {\n        text-align: right;\n    }\n</style>\n<table border=\"1\" class=\"dataframe\">\n  <thead>\n    <tr style=\"text-align: right;\">\n      <th></th>\n      <th>week</th>\n      <th>song</th>\n      <th>sessionId</th>\n    </tr>\n  </thead>\n  <tbody>\n    <tr>\n      <th>0</th>\n      <td>5</td>\n      <td>Secrets</td>\n      <td>4</td>\n    </tr>\n    <tr>\n      <th>1</th>\n      <td>6</td>\n      <td>Lucky (Album Version)</td>\n      <td>3</td>\n    </tr>\n    <tr>\n      <th>2</th>\n      <td>0</td>\n      <td>Undo</td>\n      <td>9</td>\n    </tr>\n    <tr>\n      <th>3</th>\n      <td>4</td>\n      <td>Sehr kosmisch</td>\n      <td>6</td>\n    </tr>\n    <tr>\n      <th>4</th>\n      <td>1</td>\n      <td>Revelry</td>\n      <td>6</td>\n    </tr>\n    <tr>\n      <th>5</th>\n      <td>2</td>\n      <td>You're The One</td>\n      <td>7</td>\n    </tr>\n    <tr>\n      <th>6</th>\n      <td>3</td>\n      <td>You're The One</td>\n      <td>10</td>\n    </tr>\n  </tbody>\n</table>\n</div>"
     },
     "execution_count": 108,
     "metadata": {},
     "output_type": "execute_result"
    }
   ],
   "source": [
    "test"
   ],
   "metadata": {
    "collapsed": false,
    "pycharm": {
     "name": "#%%\n"
    }
   }
  },
  {
   "cell_type": "markdown",
   "source": [
    "#### load to database"
   ],
   "metadata": {
    "collapsed": false,
    "pycharm": {
     "name": "#%% md\n"
    }
   }
  },
  {
   "cell_type": "code",
   "execution_count": 110,
   "outputs": [],
   "source": [
    "import sqlalchemy\n",
    "USER = 'dej'\n",
    "PASSWORD = 'dej'\n",
    "HOST = 'localhost'\n",
    "PORT = '5432'\n",
    "DATABASE = 'etl_log'\n",
    "\n",
    "conn_uri = 'postgresql://{}:{}@{}:{}/{}'.format(USER, PASSWORD, HOST, PORT, DATABASE)\n",
    "db_engine = sqlalchemy.create_engine(conn_uri)"
   ],
   "metadata": {
    "collapsed": false,
    "pycharm": {
     "name": "#%%\n"
    }
   }
  },
  {
   "cell_type": "code",
   "execution_count": 115,
   "outputs": [],
   "source": [
    "best_song_per_week.to_sql(\"best_song_per_week\",\n",
    "                          db_engine,\n",
    "                          if_exists='replace')\n"
   ],
   "metadata": {
    "collapsed": false,
    "pycharm": {
     "name": "#%%\n"
    }
   }
  },
  {
   "cell_type": "code",
   "execution_count": null,
   "outputs": [],
   "source": [],
   "metadata": {
    "collapsed": false,
    "pycharm": {
     "name": "#%%\n"
    }
   }
  }
 ],
 "metadata": {
  "kernelspec": {
   "display_name": "Python 3",
   "language": "python",
   "name": "python3"
  },
  "language_info": {
   "codemirror_mode": {
    "name": "ipython",
    "version": 2
   },
   "file_extension": ".py",
   "mimetype": "text/x-python",
   "name": "python",
   "nbconvert_exporter": "python",
   "pygments_lexer": "ipython2",
   "version": "2.7.6"
  }
 },
 "nbformat": 4,
 "nbformat_minor": 0
}